{
 "cells": [
  {
   "cell_type": "code",
   "execution_count": 1,
   "id": "90afe694",
   "metadata": {},
   "outputs": [],
   "source": [
    "import matplotlib.pyplot as plt\n",
    "%matplotlib inline  \n",
    "%load_ext autoreload\n",
    "%autoreload 2\n",
    "import numpy as np\n",
    "import time\n",
    "import random\n",
    "def print_np(x):\n",
    "    print (\"Type is %s\" % (type(x)))\n",
    "    print (\"Shape is %s\" % (x.shape,))\n",
    "#     print (\"Values are: \\n%s\" % (x))"
   ]
  },
  {
   "cell_type": "code",
   "execution_count": 2,
   "id": "9bd07490",
   "metadata": {},
   "outputs": [],
   "source": [
    "import os\n",
    "import sys\n",
    "sys.path.append('../')"
   ]
  },
  {
   "cell_type": "code",
   "execution_count": 7,
   "id": "b6dd384c",
   "metadata": {},
   "outputs": [
    {
     "name": "stdout",
     "output_type": "stream",
     "text": [
      "(CVXPY) Dec 10 08:24:45 PM: Encountered unexpected exception importing solver SCS:\n",
      "ImportError(\"dlopen(/opt/anaconda3/envs/py309/lib/python3.9/site-packages/_scs_direct.cpython-39-darwin.so, 0x0002): Library not loaded: @rpath/liblapack.3.dylib\\n  Referenced from: /opt/anaconda3/envs/py309/lib/python3.9/site-packages/_scs_direct.cpython-39-darwin.so\\n  Reason: tried: '/opt/anaconda3/envs/py309/lib/python3.9/site-packages/../../liblapack.3.dylib' (no such file), '/opt/anaconda3/envs/py309/lib/python3.9/site-packages/../../liblapack.3.dylib' (no such file), '/opt/anaconda3/envs/py309/bin/../lib/liblapack.3.dylib' (no such file), '/opt/anaconda3/envs/py309/bin/../lib/liblapack.3.dylib' (no such file), '/usr/local/lib/liblapack.3.dylib' (no such file), '/usr/lib/liblapack.3.dylib' (no such file)\")\n"
     ]
    }
   ],
   "source": [
    "from model import UnicycleModel\n",
    "from cost import FinaltimeFreeCost, UnicycleCost\n",
    "from constraints import UnicycleConstraints\n",
    "from PTR_tf_free import PTR_tf_free\n",
    "from PTR_in_MPC import PTR_in_MPC\n",
    "from Scaling import TrajectoryScaling\n",
    "\n",
    "from scipy.interpolate import interp1d\n",
    "from scipy.integrate import solve_ivp"
   ]
  },
  {
   "cell_type": "markdown",
   "id": "08b90769",
   "metadata": {},
   "source": [
    "## Nominal trajectory generation"
   ]
  },
  {
   "cell_type": "code",
   "execution_count": 8,
   "id": "da8a6a76",
   "metadata": {},
   "outputs": [],
   "source": [
    "ix = 3\n",
    "iu = 2\n",
    "ih = 2\n",
    "N = 50\n",
    "tf = 10\n",
    "delT = tf/N\n",
    "max_iter = 30"
   ]
  },
  {
   "cell_type": "code",
   "execution_count": 10,
   "id": "6fff32cc",
   "metadata": {},
   "outputs": [
    {
     "ename": "TypeError",
     "evalue": "__init__() takes 3 positional arguments but 5 were given",
     "output_type": "error",
     "traceback": [
      "\u001b[0;31m---------------------------------------------------------------------------\u001b[0m",
      "\u001b[0;31mTypeError\u001b[0m                                 Traceback (most recent call last)",
      "Input \u001b[0;32mIn [10]\u001b[0m, in \u001b[0;36m<cell line: 1>\u001b[0;34m()\u001b[0m\n\u001b[0;32m----> 1\u001b[0m myModel \u001b[38;5;241m=\u001b[39m \u001b[43mUnicycleModel\u001b[49m\u001b[38;5;241;43m.\u001b[39;49m\u001b[43municycle\u001b[49m\u001b[43m(\u001b[49m\u001b[38;5;124;43m'\u001b[39;49m\u001b[38;5;124;43mHello\u001b[39;49m\u001b[38;5;124;43m'\u001b[39;49m\u001b[43m,\u001b[49m\u001b[43mix\u001b[49m\u001b[43m,\u001b[49m\u001b[43miu\u001b[49m\u001b[43m,\u001b[49m\u001b[38;5;124;43m'\u001b[39;49m\u001b[38;5;124;43manalytic\u001b[39;49m\u001b[38;5;124;43m'\u001b[39;49m\u001b[43m)\u001b[49m\n\u001b[1;32m      2\u001b[0m myCost \u001b[38;5;241m=\u001b[39m FinaltimeFreeCost\u001b[38;5;241m.\u001b[39mFinaltime(\u001b[38;5;124m'\u001b[39m\u001b[38;5;124mHello\u001b[39m\u001b[38;5;124m'\u001b[39m,ix,iu,N)\n\u001b[1;32m      3\u001b[0m myConst \u001b[38;5;241m=\u001b[39m UnicycleConstraints\u001b[38;5;241m.\u001b[39mUnicycleConstraints(\u001b[38;5;124m'\u001b[39m\u001b[38;5;124mHello\u001b[39m\u001b[38;5;124m'\u001b[39m,ix,iu,[],[])\n",
      "\u001b[0;31mTypeError\u001b[0m: __init__() takes 3 positional arguments but 5 were given"
     ]
    }
   ],
   "source": [
    "myModel = UnicycleModel.unicycle('Hello',ix,iu,'analytic')\n",
    "myCost = FinaltimeFreeCost.Finaltime('Hello',ix,iu,N)\n",
    "myConst = UnicycleConstraints.UnicycleConstraints('Hello',ix,iu,[],[])"
   ]
  },
  {
   "cell_type": "code",
   "execution_count": 6,
   "id": "ccf3ed83",
   "metadata": {},
   "outputs": [
    {
     "ename": "NameError",
     "evalue": "name 'TrajectoryScaling' is not defined",
     "output_type": "error",
     "traceback": [
      "\u001b[0;31m---------------------------------------------------------------------------\u001b[0m",
      "\u001b[0;31mNameError\u001b[0m                                 Traceback (most recent call last)",
      "Input \u001b[0;32mIn [6]\u001b[0m, in \u001b[0;36m<cell line: 28>\u001b[0;34m()\u001b[0m\n\u001b[1;32m     24\u001b[0m u_max \u001b[38;5;241m=\u001b[39m np\u001b[38;5;241m.\u001b[39marray([\u001b[38;5;241m2\u001b[39m,np\u001b[38;5;241m.\u001b[39mdeg2rad(\u001b[38;5;241m90\u001b[39m)]) \n\u001b[1;32m     25\u001b[0m u_min \u001b[38;5;241m=\u001b[39m np\u001b[38;5;241m.\u001b[39marray([\u001b[38;5;241m0\u001b[39m,\u001b[38;5;241m0\u001b[39m])\n\u001b[0;32m---> 28\u001b[0m myScaling \u001b[38;5;241m=\u001b[39m \u001b[43mTrajectoryScaling\u001b[49m(x_min,x_max,u_min,u_max,tf)\n\u001b[1;32m     29\u001b[0m Sx,iSx,sx,Su,iSu,su \u001b[38;5;241m=\u001b[39m myScaling\u001b[38;5;241m.\u001b[39mget_scaling()\n\u001b[1;32m     32\u001b[0m TrajOpt \u001b[38;5;241m=\u001b[39m PTR_tf_free(\u001b[38;5;124m'\u001b[39m\u001b[38;5;124municycle\u001b[39m\u001b[38;5;124m'\u001b[39m,N,tf,max_iter,myModel,myCost,myConst,myScaling,\n\u001b[1;32m     33\u001b[0m           type_discretization\u001b[38;5;241m=\u001b[39m\u001b[38;5;124m\"\u001b[39m\u001b[38;5;124mfoh\u001b[39m\u001b[38;5;124m\"\u001b[39m,w_tf\u001b[38;5;241m=\u001b[39m\u001b[38;5;241m1\u001b[39m,w_vc\u001b[38;5;241m=\u001b[39m\u001b[38;5;241m1e3\u001b[39m,w_tr\u001b[38;5;241m=\u001b[39m\u001b[38;5;241m1e-1\u001b[39m,tol_vc\u001b[38;5;241m=\u001b[39m\u001b[38;5;241m1e-6\u001b[39m,tol_tr\u001b[38;5;241m=\u001b[39m\u001b[38;5;241m1e-3\u001b[39m)\n",
      "\u001b[0;31mNameError\u001b[0m: name 'TrajectoryScaling' is not defined"
     ]
    }
   ],
   "source": [
    "xi = np.zeros(3)\n",
    "xi[0] = -5.0\n",
    "xi[1] = -5.0 \n",
    "xi[2] = 0\n",
    "\n",
    "xf = np.zeros(3)\n",
    "xf[0] = 5.0\n",
    "xf[1] = 5.0\n",
    "xf[2] = 0\n",
    "\n",
    "x0 = np.zeros((N+1,ix))\n",
    "for i in range(N+1) :\n",
    "    x0[i] = (N-i)/N * xi + i/N * xf\n",
    "    \n",
    "u0 = np.zeros((N+1,iu))\n",
    "ui = np.array([2,0])\n",
    "uf = np.array([2,0])\n",
    "for i in range(N+1) :\n",
    "    u0[i] = (N-i)/N * ui + i/N * uf\n",
    "    \n",
    "x_max = np.array([5,5,np.deg2rad(90)])\n",
    "x_min = np.zeros(ix)\n",
    "\n",
    "u_max = np.array([2,np.deg2rad(90)]) \n",
    "u_min = np.array([0,0])\n",
    "\n",
    "\n",
    "myScaling = TrajectoryScaling(x_min,x_max,u_min,u_max,tf)\n",
    "Sx,iSx,sx,Su,iSu,su = myScaling.get_scaling()\n",
    "\n",
    "\n",
    "TrajOpt = PTR_tf_free('unicycle',N,tf,max_iter,myModel,myCost,myConst,myScaling,\n",
    "          type_discretization=\"foh\",w_tf=1,w_vc=1e3,w_tr=1e-1,tol_vc=1e-6,tol_tr=1e-3)"
   ]
  },
  {
   "cell_type": "code",
   "execution_count": null,
   "id": "f4caeefc",
   "metadata": {
    "scrolled": false
   },
   "outputs": [],
   "source": [
    "xfwd,ufwd,xnom,unom,tfnom,total_num_iter,l_all,l_tf,l_vc,l_tr,history_nom  = TrajOpt.run(x0,u0,xi,xf)\n",
    "print(\"final time {:}\".format(tfnom))"
   ]
  },
  {
   "cell_type": "code",
   "execution_count": null,
   "id": "0c24bdc7",
   "metadata": {},
   "outputs": [],
   "source": [
    "t_nom = np.array([i for i in range(N+1)]) / N * tfnom"
   ]
  },
  {
   "cell_type": "code",
   "execution_count": null,
   "id": "00fe4ce4",
   "metadata": {},
   "outputs": [],
   "source": [
    "plt.figure(figsize=(15,10))\n",
    "fS = 18\n",
    "plt.subplot(231)\n",
    "plt.plot(xnom[:,0], xnom[:,1],'-', linewidth=2.0)\n",
    "plt.plot(xf[0],xf[1],\"o\",label='goal')\n",
    "plt.gca().set_aspect('equal', adjustable='box')\n",
    "plt.axis([-6, 6, -6, 6])\n",
    "plt.xlabel('X (m)', fontsize = fS)\n",
    "plt.ylabel('Y (m)', fontsize = fS)\n",
    "plt.subplot(232)\n",
    "plt.plot(t_nom, xnom[:,0],'-', linewidth=2.0)\n",
    "plt.xlabel('time (s)', fontsize = fS)\n",
    "plt.ylabel('x (m)', fontsize = fS)\n",
    "plt.subplot(233)\n",
    "plt.plot(t_nom, xnom[:,1],'-',linewidth=2.0)\n",
    "plt.xlabel('time (s)', fontsize = fS)\n",
    "plt.ylabel('y (m)', fontsize = fS)\n",
    "plt.subplot(234)\n",
    "plt.plot(t_nom, np.rad2deg(xnom[:,2]),'-',linewidth=2.0)\n",
    "plt.xlabel('time (s)', fontsize = fS)\n",
    "plt.ylabel('$\\Theta$ (deg)', fontsize = fS)\n",
    "plt.subplot(235)\n",
    "plt.plot(t_nom, unom[:,0],'-',linewidth=2.0)\n",
    "plt.xlabel('time (s)', fontsize = fS)\n",
    "plt.ylabel('v (m/s)', fontsize = fS)\n",
    "plt.ylim([0,3])\n",
    "plt.subplot(236)\n",
    "plt.plot(t_nom, np.rad2deg(unom[:,1]),'-',linewidth=2.0)\n",
    "plt.xlabel('time (s)', fontsize = fS)\n",
    "plt.ylabel('w (deg/s)', fontsize = fS)\n",
    "plt.show()"
   ]
  },
  {
   "cell_type": "markdown",
   "id": "ef9ced31",
   "metadata": {},
   "source": [
    "## Set MPC controller with static obstacle"
   ]
  },
  {
   "cell_type": "markdown",
   "id": "f5c9a420",
   "metadata": {},
   "source": [
    "### nominal trajectory is given as xbar, ubar"
   ]
  },
  {
   "cell_type": "code",
   "execution_count": null,
   "id": "0295a63f",
   "metadata": {},
   "outputs": [],
   "source": [
    "fun_unom = interp1d(t_nom,unom,axis=0)\n",
    "def get_traj_teval(t_eval) :\n",
    "    if len(t_eval) == 0 :\n",
    "        return [],[]\n",
    "    assert np.max(t_eval) <= t_nom[-1]\n",
    "    def dfdt(t,x) :\n",
    "        u = fun_unom(t)\n",
    "        return np.squeeze(myModel.forward(x,u))\n",
    "\n",
    "    sol = solve_ivp(dfdt,(t_nom[0],t_nom[-1]),xi,t_eval=t_eval,rtol=1e-12,atol=1e-12)\n",
    "    return sol.y.T,fun_unom(t_eval)\n",
    "\n",
    "def forward_dt(dt,xi,u) :\n",
    "    def dfdt(t,x) :\n",
    "        return np.squeeze(myModel.forward(x,u))\n",
    "    sol = solve_ivp(dfdt,(0,dt),xi,rtol=1e-12,atol=1e-12)\n",
    "    return sol\n",
    "def get_H_obs(rx,ry) :\n",
    "    return np.diag([1/rx,1/ry])"
   ]
  },
  {
   "cell_type": "code",
   "execution_count": null,
   "id": "0698dead",
   "metadata": {},
   "outputs": [],
   "source": [
    "tbar = np.array([i for i in range(N+1)]) / N * tfnom\n",
    "tfsim = 8\n",
    "horizon = 2\n",
    "dt = 0.1\n",
    "Nsim = int(tfsim / dt)\n",
    "Nmpc =  int(horizon / dt) # N+1 is total discretization points for state\n",
    "print(\"Nmpc: {:}\".format(Nmpc))\n",
    "\n",
    "xi_mpc = np.zeros(3)\n",
    "xi_mpc[0] = -5.0\n",
    "xi_mpc[1] = -4.0 \n",
    "xi_mpc[2] = 0"
   ]
  },
  {
   "cell_type": "code",
   "execution_count": null,
   "id": "bfb9aa54",
   "metadata": {},
   "outputs": [],
   "source": [
    "# cost and constraint / model is identical\n",
    "MPC_Cost = UnicycleCost.UnicycleMPCCost('Hello',ix,iu,Nmpc)\n",
    "MPC_Const = UnicycleConstraints.UnicycleMPCConstraints('Hello',ix,iu,num_obs=1)\n",
    "\n",
    "# # define optimal control\n",
    "MPC_controller = PTR_in_MPC('unicycle',Nmpc,horizon,max_iter,myModel,MPC_Cost,MPC_Const,myScaling,\n",
    "          type_discretization=\"zoh\",w_c=1,w_vc=1e3,w_tr=1e-1,\n",
    "                            tol_vc=1e-6,tol_tr=1e-3,verbosity=False)"
   ]
  },
  {
   "cell_type": "code",
   "execution_count": null,
   "id": "6acac9a5",
   "metadata": {},
   "outputs": [],
   "source": [
    "# moving obstacle\n",
    "t_curr = 0\n",
    "def fun_obstacle(t_eval) :\n",
    "    t_eval = np.array(t_eval)\n",
    "    N = len(t_eval)\n",
    "    x = -0.5*t_eval + 2\n",
    "    y = -10/8*t_eval + 5\n",
    "    cobs = []\n",
    "    Hobs = []\n",
    "    H = get_H_obs(1,1) # fixed radius\n",
    "    for i in range(N) :\n",
    "        cobs.append([x[i],y[i]])\n",
    "        Hobs.append(H)\n",
    "    return cobs,Hobs"
   ]
  },
  {
   "cell_type": "code",
   "execution_count": null,
   "id": "8602204b",
   "metadata": {
    "scrolled": true
   },
   "outputs": [],
   "source": [
    "t_curr = 0\n",
    "x_curr = np.copy(xi_mpc)\n",
    "\n",
    "t_save,x_save,u_save = [],[],[]\n",
    "t_save.append(t_curr)\n",
    "x_save.append(xi_mpc)\n",
    "\n",
    "t_traj,x_traj,u_traj = [],[],[]\n",
    "c_traj,H_traj = [],[]\n",
    "\n",
    "FRS_obstacle = 'proactive' \n",
    "\n",
    "for _ in range(Nsim) : # Nsim\n",
    "    print(\"t curr: {:.2f}  ======================\".format(t_curr))\n",
    "    # estimating nominal trajectory within horizon\n",
    "    t_horizon = np.array([t_curr + dt*i for i in range(Nmpc+1)])\n",
    "    t_eval = t_horizon[t_horizon <= tfnom]\n",
    "    t_end = t_horizon[t_horizon > tfnom]\n",
    "    xfwd,ufwd = get_traj_teval(t_eval)\n",
    "    for _ in t_end :\n",
    "        if len(xfwd) == 0 :\n",
    "            xfwd = xnom[-1]\n",
    "            ufwd = unom[-1]\n",
    "        else :\n",
    "            xfwd = np.vstack((xfwd,xnom[-1]))\n",
    "            ufwd = np.vstack((ufwd,unom[-1]))\n",
    "    \n",
    "    # obstacle forward model\n",
    "    cmpc,Hmpc = [],[]\n",
    "    if FRS_obstacle == 'reactive' :\n",
    "        ctmp,Htmp = fun_obstacle([t_curr])\n",
    "        c = ctmp[0]\n",
    "        H = Htmp[0]\n",
    "        for i in range(Nmpc+1) :\n",
    "            cmpc.append(c)\n",
    "            Hmpc.append(H)   \n",
    "    elif FRS_obstacle == 'proactive' :\n",
    "        cmpc,Hmpc = fun_obstacle(t_horizon)\n",
    "    \n",
    "    # solve optimal control\n",
    "    # initiall condition\n",
    "    if t_curr == 0 :\n",
    "        x0 = xfwd\n",
    "        u0 = ufwd\n",
    "    else :\n",
    "        x0 = np.copy(xmpc)\n",
    "        x0[:Nmpc] = xmpc[1:]\n",
    "        u0 = np.copy(umpc)\n",
    "        u0[:Nmpc] = umpc[1:]\n",
    "\n",
    "\n",
    "    _,_,xmpc,umpc,tfmpc,_,l_all,l_c,l_vc,l_tr,history_mpc  = MPC_controller.run(x0,u0,x_curr,xfwd,ufwd,cmpc,Hmpc)\n",
    "\n",
    "    # apply input to the system (integration)\n",
    "    sol = forward_dt(dt,x_curr,umpc[0])\n",
    "    t_curr += dt\n",
    "    x_curr = sol.y.T[-1]\n",
    "\n",
    "    # save\n",
    "    t_save.append(t_curr)\n",
    "    x_save.append(x_curr)\n",
    "    u_save.append(umpc[0])\n",
    "\n",
    "    t_traj.append(t_horizon)\n",
    "    x_traj.append(xmpc)\n",
    "    u_traj.append(umpc)\n",
    "    c_traj.append(cmpc)\n",
    "    H_traj.append(Hmpc)\n",
    "#     break\n",
    "\n",
    "x_save = np.array(x_save)\n",
    "u_save = np.array(u_save)"
   ]
  },
  {
   "cell_type": "code",
   "execution_count": null,
   "id": "beb98c43",
   "metadata": {},
   "outputs": [],
   "source": [
    "plt.figure(figsize=(15,10))\n",
    "fS = 18\n",
    "plt.subplot(231)\n",
    "plt.plot(xnom[:,0], xnom[:,1],'--', linewidth=2.0)\n",
    "plt.plot(x_save[:,0], x_save[:,1],'-', linewidth=2.0)\n",
    "plt.plot(xf[0],xf[1],\"o\",label='goal')\n",
    "plt.gca().set_aspect('equal', adjustable='box')\n",
    "plt.axis([-6, 6, -6, 6])\n",
    "plt.xlabel('X (m)', fontsize = fS)\n",
    "plt.ylabel('Y (m)', fontsize = fS)\n",
    "plt.subplot(232)\n",
    "plt.plot(t_nom, xnom[:,0],'--', linewidth=2.0)\n",
    "plt.plot(t_save, x_save[:,0],'-',linewidth=2.0)\n",
    "plt.xlabel('time (s)', fontsize = fS)\n",
    "plt.ylabel('x1 (m)', fontsize = fS)\n",
    "plt.subplot(233)\n",
    "plt.plot(t_nom, xnom[:,1],'--',linewidth=2.0)\n",
    "plt.plot(t_save, x_save[:,1],'-',linewidth=2.0)\n",
    "plt.xlabel('time (s)', fontsize = fS)\n",
    "plt.ylabel('x2 (m)', fontsize = fS)\n",
    "plt.subplot(234)\n",
    "plt.plot(t_nom, np.rad2deg(xnom[:,2]),'--',linewidth=2.0)\n",
    "plt.plot(t_save, np.rad2deg(x_save[:,2]),'-',linewidth=2.0)\n",
    "plt.xlabel('time (s)', fontsize = fS)\n",
    "plt.ylabel('x3 (rad)', fontsize = fS)\n",
    "plt.subplot(235)\n",
    "plt.plot(t_nom, unom[:,0],'--',linewidth=2.0)\n",
    "plt.step(t_save,[*u_save[:,0],u_save[-1,0]],label='zoh',where='post')\n",
    "plt.plot(t_save, np.array(t_save)*0+MPC_Const.vmax,'--',linewidth=2.0,color='tab:red')\n",
    "plt.plot(t_save, np.array(t_save)*0+MPC_Const.vmin,'--',linewidth=2.0,color='tab:red')\n",
    "plt.xlabel('time (s)', fontsize = fS)\n",
    "plt.ylabel('v (m/s)', fontsize = fS)\n",
    "plt.subplot(236)\n",
    "plt.plot(t_nom, np.rad2deg(unom[:,1]),'--',linewidth=2.0)\n",
    "plt.step(t_save,np.rad2deg([*u_save[:,1],u_save[-1,1]]),label='zoh',where='post')\n",
    "plt.plot(t_save, np.array(t_save)*0+np.rad2deg(MPC_Const.wmax),'--',linewidth=2.0,color='tab:red')\n",
    "plt.plot(t_save, np.array(t_save)*0+np.rad2deg(MPC_Const.wmin),'--',linewidth=2.0,color='tab:red')\n",
    "plt.xlabel('time (s)', fontsize = fS)\n",
    "plt.ylabel('w (rad/s)', fontsize = fS)\n",
    "plt.show()"
   ]
  },
  {
   "cell_type": "markdown",
   "id": "7ec609de",
   "metadata": {},
   "source": [
    "## make a video"
   ]
  },
  {
   "cell_type": "code",
   "execution_count": null,
   "id": "f9b973c1",
   "metadata": {},
   "outputs": [],
   "source": [
    "from matplotlib.patches import Rectangle,Ellipse\n",
    "import imageio.v2 as imageio\n",
    "import os"
   ]
  },
  {
   "cell_type": "code",
   "execution_count": null,
   "id": "6123793b",
   "metadata": {},
   "outputs": [],
   "source": [
    "filenames = []\n",
    "t_curr = 0\n",
    "for idx in range(Nsim+1) :\n",
    "    fig = plt.figure(figsize=(10,10))\n",
    "    ax = fig.add_subplot(111)\n",
    "    fS = 15\n",
    "    plt.plot(xnom[:,0], xnom[:,1],'--', linewidth=2.0,label='nominal trajectory')\n",
    "    plt.plot(x_save[:idx+1,0], x_save[:idx+1,1],'-', linewidth=2.0,label='result trajectory')\n",
    "    if idx < Nsim :\n",
    "        plt.plot(x_traj[idx][:,0], x_traj[idx][:,1],'-',color='tab:green', linewidth=2.0,label='future prediction')\n",
    "        plt.plot(x_traj[idx][0,0], x_traj[idx][0,1],'o',color='tab:green', linewidth=2.0)\n",
    "#     for ce,H in zip(cobs,Hobs) :\n",
    "    if idx < Nsim :\n",
    "        cmpc = c_traj[idx]\n",
    "        Hmpc = H_traj[idx]\n",
    "    for idx_obstacle, (ce,H) in enumerate(zip(cmpc,Hmpc)) :\n",
    "        rx = 1/H[0,0]\n",
    "        ry = 1/H[1,1]\n",
    "        if idx_obstacle == 0:\n",
    "            circle1 = Ellipse((ce[0],ce[1]),rx*2,ry*2,color='tab:red',alpha=1.0,fill=True)\n",
    "        else :\n",
    "            circle1 = Ellipse((ce[0],ce[1]),rx*2,ry*2,color='tab:pink',alpha=0.2*np.exp(-idx_obstacle/10),fill=True)\n",
    "        ax.add_patch(circle1)\n",
    "    \n",
    "    plt.gca().set_aspect('equal', adjustable='box')\n",
    "    plt.axis([-6, 6, -6, 6])\n",
    "    plt.xlabel('X (m)', fontsize = fS)\n",
    "    plt.ylabel('Y (m)', fontsize = fS)\n",
    "    plt.legend(fontsize=fS)\n",
    "\n",
    "    filename = '../images/{:d}.png'.format(idx)\n",
    "    plt.savefig(filename)\n",
    "    filenames.append(filename)\n",
    "    plt.close()\n",
    "    t_curr += dt"
   ]
  },
  {
   "cell_type": "code",
   "execution_count": null,
   "id": "9f492eb6",
   "metadata": {},
   "outputs": [],
   "source": [
    "img_name = 'MPC_moving_obstacle_' + FRS_obstacle\n",
    "with imageio.get_writer('../images/'+img_name+'.gif', mode='I') as writer:\n",
    "        for filename in filenames:\n",
    "            image = imageio.imread(filename)\n",
    "            writer.append_data(image)"
   ]
  },
  {
   "cell_type": "code",
   "execution_count": null,
   "id": "8bc2ba1a",
   "metadata": {},
   "outputs": [],
   "source": [
    "img_name = 'video_MPC_moving_obstacle_' + FRS_obstacle\n",
    "with imageio.get_writer('../images/'+img_name+'.mov', fps=int(1/dt)) as writer:\n",
    "    for filename in filenames:\n",
    "        image = imageio.imread(filename)\n",
    "        writer.append_data(image)"
   ]
  },
  {
   "cell_type": "code",
   "execution_count": null,
   "id": "0ac17491",
   "metadata": {},
   "outputs": [],
   "source": [
    "for filename in set(filenames):\n",
    "    os.remove(filename)"
   ]
  },
  {
   "cell_type": "code",
   "execution_count": null,
   "id": "133b46a9",
   "metadata": {},
   "outputs": [],
   "source": [
    "filenames = []\n",
    "t_curr = 0\n",
    "# for idx in range(Nsim+1) :\n",
    "idx = 0\n",
    "fig = plt.figure(figsize=(10,10))\n",
    "ax = fig.add_subplot(111)\n",
    "fS = 15\n",
    "plt.plot(xnom[:,0], xnom[:,1],'--', linewidth=2.0,label='nominal trajectory')\n",
    "plt.plot(x_save[:idx+1,0], x_save[:idx+1,1],'-', linewidth=2.0,label='result trajectory')\n",
    "if idx < Nsim :\n",
    "    plt.plot(x_traj[idx][:,0], x_traj[idx][:,1],'-',color='tab:green', linewidth=2.0,label='future prediction')\n",
    "    plt.plot(x_traj[idx][0,0], x_traj[idx][0,1],'o',color='tab:green', linewidth=2.0)\n",
    "#     for ce,H in zip(cobs,Hobs) :\n",
    "if idx < Nsim :\n",
    "    cmpc = c_traj[idx]\n",
    "    Hmpc = H_traj[idx]\n",
    "for idx_obstacle, (ce,H) in enumerate(zip(cmpc,Hmpc)) :\n",
    "    rx = 1/H[0,0]\n",
    "    ry = 1/H[1,1]\n",
    "    if idx_obstacle == 0:\n",
    "        circle1 = Ellipse((ce[0],ce[1]),rx*2,ry*2,color='tab:red',alpha=1.0,fill=True)\n",
    "    else :\n",
    "        circle1 = Ellipse((ce[0],ce[1]),rx*2,ry*2,color='tab:pink',alpha=0.2*np.exp(-idx_obstacle/10),fill=True)\n",
    "    ax.add_patch(circle1)\n",
    "\n",
    "plt.gca().set_aspect('equal', adjustable='box')\n",
    "plt.axis([-6, 6, -6, 6])\n",
    "plt.xlabel('X (m)', fontsize = fS)\n",
    "plt.ylabel('Y (m)', fontsize = fS)\n",
    "plt.legend(fontsize=fS)\n"
   ]
  },
  {
   "cell_type": "code",
   "execution_count": null,
   "id": "4b496d3d",
   "metadata": {},
   "outputs": [],
   "source": []
  }
 ],
 "metadata": {
  "kernelspec": {
   "display_name": "Python 3 (ipykernel)",
   "language": "python",
   "name": "python3"
  },
  "language_info": {
   "codemirror_mode": {
    "name": "ipython",
    "version": 3
   },
   "file_extension": ".py",
   "mimetype": "text/x-python",
   "name": "python",
   "nbconvert_exporter": "python",
   "pygments_lexer": "ipython3",
   "version": "3.9.13"
  }
 },
 "nbformat": 4,
 "nbformat_minor": 5
}
