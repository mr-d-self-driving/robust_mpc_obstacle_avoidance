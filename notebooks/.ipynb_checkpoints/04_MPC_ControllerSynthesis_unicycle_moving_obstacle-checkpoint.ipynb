{
 "cells": [
  {
   "cell_type": "code",
   "execution_count": 1,
   "id": "90afe694",
   "metadata": {},
   "outputs": [],
   "source": [
    "import matplotlib.pyplot as plt\n",
    "%matplotlib inline  \n",
    "%load_ext autoreload\n",
    "%autoreload 2\n",
    "import numpy as np\n",
    "import time\n",
    "import random\n",
    "def print_np(x):\n",
    "    print (\"Type is %s\" % (type(x)))\n",
    "    print (\"Shape is %s\" % (x.shape,))\n",
    "#     print (\"Values are: \\n%s\" % (x))"
   ]
  },
  {
   "cell_type": "code",
   "execution_count": 2,
   "id": "9bd07490",
   "metadata": {},
   "outputs": [],
   "source": [
    "import os\n",
    "import sys\n",
    "sys.path.append('../')"
   ]
  },
  {
   "cell_type": "code",
   "execution_count": 3,
   "id": "262d5363",
   "metadata": {},
   "outputs": [
    {
     "name": "stdout",
     "output_type": "stream",
     "text": [
      "(CVXPY) Dec 13 12:27:05 PM: Encountered unexpected exception importing solver SCS:\n",
      "ImportError(\"dlopen(/opt/anaconda3/envs/py309/lib/python3.9/site-packages/_scs_direct.cpython-39-darwin.so, 0x0002): Library not loaded: @rpath/liblapack.3.dylib\\n  Referenced from: /opt/anaconda3/envs/py309/lib/python3.9/site-packages/_scs_direct.cpython-39-darwin.so\\n  Reason: tried: '/opt/anaconda3/envs/py309/lib/python3.9/site-packages/../../liblapack.3.dylib' (no such file), '/opt/anaconda3/envs/py309/lib/python3.9/site-packages/../../liblapack.3.dylib' (no such file), '/opt/anaconda3/envs/py309/bin/../lib/liblapack.3.dylib' (no such file), '/opt/anaconda3/envs/py309/bin/../lib/liblapack.3.dylib' (no such file), '/usr/local/lib/liblapack.3.dylib' (no such file), '/usr/lib/liblapack.3.dylib' (no such file)\")\n"
     ]
    }
   ],
   "source": [
    "from model import UnicycleModel\n",
    "from cost import FinaltimeFreeCost, UnicycleCost\n",
    "from constraints import UnicycleConstraints\n",
    "from PTR_tf_free import PTR_tf_free\n",
    "from PTR_in_MPC import PTR_in_MPC\n",
    "from Scaling import TrajectoryScaling\n",
    "\n",
    "from scipy.interpolate import interp1d\n",
    "from scipy.integrate import solve_ivp"
   ]
  },
  {
   "cell_type": "markdown",
   "id": "08b90769",
   "metadata": {},
   "source": [
    "## Nominal trajectory generation"
   ]
  },
  {
   "cell_type": "code",
   "execution_count": 4,
   "id": "da8a6a76",
   "metadata": {},
   "outputs": [],
   "source": [
    "ix = 3\n",
    "iu = 2\n",
    "ih = 2\n",
    "N = 50\n",
    "tf = 10\n",
    "delT = tf/N\n",
    "max_iter = 30"
   ]
  },
  {
   "cell_type": "code",
   "execution_count": 5,
   "id": "6fff32cc",
   "metadata": {},
   "outputs": [],
   "source": [
    "myModel = UnicycleModel.unicycle('Hello',ix,iu,'analytic')\n",
    "myCost = FinaltimeFreeCost.Finaltime('Hello',ix,iu,N)\n",
    "myConst = UnicycleConstraints.UnicycleConstraints('Hello',ix,iu,[],[])"
   ]
  },
  {
   "cell_type": "code",
   "execution_count": 6,
   "id": "ccf3ed83",
   "metadata": {},
   "outputs": [
    {
     "name": "stdout",
     "output_type": "stream",
     "text": [
      "Is DPP?  True\n"
     ]
    }
   ],
   "source": [
    "xi = np.zeros(3)\n",
    "xi[0] = -5.0\n",
    "xi[1] = -5.0 \n",
    "xi[2] = 0\n",
    "\n",
    "xf = np.zeros(3)\n",
    "xf[0] = 5.0\n",
    "xf[1] = 5.0\n",
    "xf[2] = 0\n",
    "\n",
    "x0 = np.zeros((N+1,ix))\n",
    "for i in range(N+1) :\n",
    "    x0[i] = (N-i)/N * xi + i/N * xf\n",
    "    \n",
    "u0 = np.zeros((N+1,iu))\n",
    "ui = np.array([2,0])\n",
    "uf = np.array([2,0])\n",
    "for i in range(N+1) :\n",
    "    u0[i] = (N-i)/N * ui + i/N * uf\n",
    "    \n",
    "x_max = np.array([5,5,np.deg2rad(90)])\n",
    "x_min = np.zeros(ix)\n",
    "\n",
    "u_max = np.array([2,np.deg2rad(90)]) \n",
    "u_min = np.array([0,0])\n",
    "\n",
    "\n",
    "myScaling = TrajectoryScaling(x_min,x_max,u_min,u_max,tf)\n",
    "Sx,iSx,sx,Su,iSu,su = myScaling.get_scaling()\n",
    "\n",
    "\n",
    "TrajOpt = PTR_tf_free('unicycle',N,tf,max_iter,myModel,myCost,myConst,myScaling,\n",
    "          type_discretization=\"foh\",w_tf=1,w_vc=1e3,w_tr=1e-1,tol_vc=1e-6,tol_tr=1e-3)"
   ]
  },
  {
   "cell_type": "code",
   "execution_count": 7,
   "id": "f4caeefc",
   "metadata": {
    "scrolled": false
   },
   "outputs": [
    {
     "name": "stdout",
     "output_type": "stream",
     "text": [
      "Set parameter Username\n",
      "Academic license - for non-commercial use only - expires 2023-11-07\n",
      "┌──────────────────────────────────────────────────────────────────────────────────────────────┐\n",
      "\n",
      "│                          ..:: Aircraft Landing by SCP ::..                                   │\n",
      "\n",
      "├──────┬───────────┬──────────┬─────────┬───────────┬────────────┬─────────┬─────────┬─────────┤\n",
      "\n",
      "│ iter │  total    │ final    │ thrust  │ control   │ reduction  │ vc      │ tr      │ dyn     │\n",
      "\n",
      "│      │  cost     │ time [s] │ energy  │ rate      │ ratio      │ (log10) │         │         │\n",
      "\n",
      "├──────┼───────────┼──────────┼─────────┼───────────┼────────────┼─────────┼─────────┼─────────┤\n",
      "\n",
      "│1     │5.696      │5.000     │0        │0          │0           │1(-14.07)│0(6.958 )│0(0.128 )│\n",
      "│2     │7.734      │6.976     │0        │0          │0.597       │1(-14.04)│0(7.573 )│0(0.065 )│\n",
      "│3     │7.324      │7.132     │0        │0          │0.869       │1(-13.98)│0(1.919 )│0(0.015 )│\n",
      "│4     │7.256      │7.253     │0        │0          │0.983       │1(-14.28)│0(0.030 )│1(0.000 )│\n",
      "│5     │7.252      │7.251     │0        │0          │0.928       │1(-14.23)│0(0.010 )│1(0.000 )│\n",
      "│6     │7.251      │7.250     │0        │0          │0.473       │1(-14.20)│0(0.006 )│1(0.000 )│\n",
      "│7     │7.250      │7.250     │0        │0          │0.647       │1(-14.25)│0(0.002 )│1(0.000 )│\n",
      "│8     │7.250      │7.250     │0        │0          │0.596       │1(-14.23)│0(0.001 )│1(0.000 )│\n",
      "│9     │7.250      │7.250     │0        │0          │0.443       │1(-14.20)│1(0.001 )│1(0.000 )│\n",
      "├──────┴───────────┴──────────┴─────────┴───────────┴────────────┴─────────┴─────────┴─────────┤\n",
      "\n",
      "│                SUCCEESS: virtual control and trust region < tol                              │\n",
      "\n",
      "└──────────────────────────────────────────────────────────────────────────────────────────────┘\n",
      "\n",
      "final time 7.2495602852434535\n"
     ]
    }
   ],
   "source": [
    "xfwd,ufwd,xnom,unom,tfnom,total_num_iter,l_all,l_tf,l_vc,l_tr,history_nom  = TrajOpt.run(x0,u0,xi,xf)\n",
    "print(\"final time {:}\".format(tfnom))"
   ]
  },
  {
   "cell_type": "code",
   "execution_count": 8,
   "id": "0c24bdc7",
   "metadata": {},
   "outputs": [],
   "source": [
    "t_nom = np.array([i for i in range(N+1)]) / N * tfnom"
   ]
  },
  {
   "cell_type": "code",
   "execution_count": 9,
   "id": "6796cf8e",
   "metadata": {},
   "outputs": [
    {
     "data": {
      "image/png": "[encoded data removed]",
      "text/plain": [
       "<Figure size 1080x720 with 6 Axes>"
      ]
     },
     "metadata": {
      "needs_background": "light"
     },
     "output_type": "display_data"
    }
   ],
   "source": [
    "plt.figure(figsize=(15,10))\n",
    "fS = 18\n",
    "plt.subplot(231)\n",
    "plt.plot(xnom[:,0], xnom[:,1],'-', linewidth=2.0)\n",
    "plt.plot(xf[0],xf[1],\"o\",label='goal')\n",
    "plt.gca().set_aspect('equal', adjustable='box')\n",
    "plt.axis([-6, 6, -6, 6])\n",
    "plt.xlabel('X (m)', fontsize = fS)\n",
    "plt.ylabel('Y (m)', fontsize = fS)\n",
    "plt.subplot(232)\n",
    "plt.plot(t_nom, xnom[:,0],'-', linewidth=2.0)\n",
    "plt.xlabel('time (s)', fontsize = fS)\n",
    "plt.ylabel('x (m)', fontsize = fS)\n",
    "plt.subplot(233)\n",
    "plt.plot(t_nom, xnom[:,1],'-',linewidth=2.0)\n",
    "plt.xlabel('time (s)', fontsize = fS)\n",
    "plt.ylabel('y (m)', fontsize = fS)\n",
    "plt.subplot(234)\n",
    "plt.plot(t_nom, np.rad2deg(xnom[:,2]),'-',linewidth=2.0)\n",
    "plt.xlabel('time (s)', fontsize = fS)\n",
    "plt.ylabel('$\\Theta$ (deg)', fontsize = fS)\n",
    "plt.subplot(235)\n",
    "plt.plot(t_nom, unom[:,0],'-',linewidth=2.0)\n",
    "plt.xlabel('time (s)', fontsize = fS)\n",
    "plt.ylabel('v (m/s)', fontsize = fS)\n",
    "plt.ylim([0,3])\n",
    "plt.subplot(236)\n",
    "plt.plot(t_nom, np.rad2deg(unom[:,1]),'-',linewidth=2.0)\n",
    "plt.xlabel('time (s)', fontsize = fS)\n",
    "plt.ylabel('w (deg/s)', fontsize = fS)\n",
    "plt.show()"
   ]
  },
  {
   "cell_type": "markdown",
   "id": "ef9ced31",
   "metadata": {},
   "source": [
    "## Set MPC controller with static obstacle"
   ]
  },
  {
   "cell_type": "markdown",
   "id": "f5c9a420",
   "metadata": {},
   "source": [
    "### nominal trajectory is given as xbar, ubar"
   ]
  },
  {
   "cell_type": "code",
   "execution_count": 10,
   "id": "0295a63f",
   "metadata": {},
   "outputs": [],
   "source": [
    "fun_unom = interp1d(t_nom,unom,axis=0)\n",
    "def get_traj_teval(t_eval) :\n",
    "    if len(t_eval) == 0 :\n",
    "        return [],[]\n",
    "    assert np.max(t_eval) <= t_nom[-1]\n",
    "    def dfdt(t,x) :\n",
    "        u = fun_unom(t)\n",
    "        return np.squeeze(myModel.forward(x,u))\n",
    "\n",
    "    sol = solve_ivp(dfdt,(t_nom[0],t_nom[-1]),xi,t_eval=t_eval,rtol=1e-12,atol=1e-12)\n",
    "    return sol.y.T,fun_unom(t_eval)\n",
    "\n",
    "def forward_dt(dt,xi,u) :\n",
    "    def dfdt(t,x) :\n",
    "        return np.squeeze(myModel.forward(x,u))\n",
    "    sol = solve_ivp(dfdt,(0,dt),xi,rtol=1e-12,atol=1e-12)\n",
    "    return sol\n",
    "def get_H_obs(rx,ry) :\n",
    "    return np.diag([1/rx,1/ry])"
   ]
  },
  {
   "cell_type": "code",
   "execution_count": 11,
   "id": "0698dead",
   "metadata": {},
   "outputs": [
    {
     "name": "stdout",
     "output_type": "stream",
     "text": [
      "Nmpc: 20\n"
     ]
    }
   ],
   "source": [
    "tbar = np.array([i for i in range(N+1)]) / N * tfnom\n",
    "tfsim = 8\n",
    "horizon = 2\n",
    "dt = 0.1\n",
    "Nsim = int(tfsim / dt)\n",
    "Nmpc =  int(horizon / dt) # N+1 is total discretization points for state\n",
    "print(\"Nmpc: {:}\".format(Nmpc))\n",
    "\n",
    "xi_mpc = np.zeros(3)\n",
    "xi_mpc[0] = -5.0\n",
    "xi_mpc[1] = -4.0 \n",
    "xi_mpc[2] = 0"
   ]
  },
  {
   "cell_type": "code",
   "execution_count": 12,
   "id": "bfb9aa54",
   "metadata": {},
   "outputs": [
    {
     "name": "stdout",
     "output_type": "stream",
     "text": [
      "Is DPP?  True\n"
     ]
    }
   ],
   "source": [
    "# cost and constraint / model is identical\n",
    "MPC_model = UnicycleModel.unicycle2('Hello',ix,iu,'analytic')\n",
    "MPC_Cost = UnicycleCost.UnicycleMPCCost('Hello',ix,iu,Nmpc)\n",
    "MPC_Const = UnicycleConstraints.UnicycleMPCConstraints('Hello',ix,iu,num_obs=1)\n",
    "\n",
    "# # define optimal control\n",
    "MPC_controller = PTR_in_MPC('unicycle',Nmpc,horizon,max_iter,myModel,MPC_Cost,MPC_Const,myScaling,\n",
    "          type_discretization=\"zoh\",w_c=1,w_vc=1e3,w_tr=1e-1,\n",
    "                            tol_vc=1e-6,tol_tr=1e-3,verbosity=False)"
   ]
  },
  {
   "cell_type": "code",
   "execution_count": 13,
   "id": "c2cee01a",
   "metadata": {},
   "outputs": [
    {
     "name": "stdout",
     "output_type": "stream",
     "text": [
      "nonlinear funnel\n",
      "Is DPP?  True\n"
     ]
    }
   ],
   "source": [
    "# funnel initialization\n",
    "from utils.utils_alg import get_neighbor_vec,get_K_discrete\n",
    "from funlopt import funlopt\n",
    "from Lipschitz import Lipschitz\n",
    "iw,iq,ip = MPC_model.iw,MPC_model.iq,MPC_model.ip\n",
    "C,D,E,G = MPC_model.C,MPC_model.D,MPC_model.E,MPC_model.G\n",
    "xfwd,ufwd = get_traj_teval(np.array([dt*i for i in range(Nmpc+1)]))\n",
    "\n",
    "Qini = np.diag([0.4**2,0.4**2,np.deg2rad(20)**2])\n",
    "# Qini = np.diag([0.2**2,0.2**2,np.deg2rad(10)**2])\n",
    "\n",
    "Qhat = np.tile(np.diag([0.2**2,0.2**2,np.deg2rad(10)**2]),(Nmpc+1,1,1))*0.1\n",
    "A,B,s,z,x_prop_n = myModel.diff_discrete_zoh(xfwd[0:Nmpc,:],ufwd[0:Nmpc,:],dt,horizon) \n",
    "Khat = get_K_discrete(A,B,np.eye(ix),np.eye(iu),np.eye(ix),Nmpc,ix,iu)\n",
    "Yhat = Khat@Qhat[:Nmpc]\n",
    "\n",
    "funl_solver = funlopt(ix,iu,iq,ip,iw,Nmpc,myScaling,\n",
    "                      alpha=0.99,\n",
    "                      lambda_mu=0.1,\n",
    "                      w_tr=0,\n",
    "                      flag_nonlinearity=True)\n",
    "funl_solver.cvx_initialize(Qini,flag_time_varying=True)\n",
    "\n",
    "lip_estimator = Lipschitz(ix,iu,iq,ip,iw,Nmpc,num_sample=100,flag_uniform=True)"
   ]
  },
  {
   "cell_type": "code",
   "execution_count": 14,
   "id": "6acac9a5",
   "metadata": {},
   "outputs": [],
   "source": [
    "# moving obstacle\n",
    "t_curr = 0\n",
    "def fun_obstacle(t_eval) :\n",
    "    t_eval = np.array(t_eval)\n",
    "    N = len(t_eval)\n",
    "    x = -0.5*t_eval + 2\n",
    "    y = -10/8*t_eval + 5\n",
    "    cobs = []\n",
    "    Hobs = []\n",
    "    H = get_H_obs(1,1) # fixed radius\n",
    "    for i in range(N) :\n",
    "        cobs.append([x[i],y[i]])\n",
    "        Hobs.append(H)\n",
    "    return cobs,Hobs"
   ]
  },
  {
   "cell_type": "code",
   "execution_count": null,
   "id": "8602204b",
   "metadata": {
    "scrolled": false
   },
   "outputs": [],
   "source": [
    "import time\n",
    "\n",
    "t_curr = 0\n",
    "x_curr = np.copy(xi_mpc)\n",
    "\n",
    "t_save,x_save,u_save = [],[],[]\n",
    "t_save.append(t_curr)\n",
    "x_save.append(xi_mpc)\n",
    "\n",
    "t_traj,x_traj,u_traj = [],[],[]\n",
    "Q_traj,K_traj = [],[]\n",
    "c_traj,H_traj = [],[]\n",
    "\n",
    "time_traj,time_lips,time_funl = [],[],[]\n",
    "\n",
    "# for _ in range(Nsim) : # Nsim\n",
    "for _ in range(1) : # Nsim\n",
    "    print(\"t curr: {:.2f}  ======================\".format(t_curr))\n",
    "    # estimating nominal trajectory within horizon\n",
    "    t_horizon = np.array([t_curr + dt*i for i in range(Nmpc+1)])\n",
    "    t_eval = t_horizon[t_horizon <= tfnom]\n",
    "    t_end = t_horizon[t_horizon > tfnom]\n",
    "    xfwd,ufwd = get_traj_teval(t_eval)\n",
    "    for _ in t_end :\n",
    "        if len(xfwd) == 0 :\n",
    "            xfwd = xnom[-1]\n",
    "            ufwd = unom[-1]\n",
    "        else :\n",
    "            xfwd = np.vstack((xfwd,xnom[-1]))\n",
    "            ufwd = np.vstack((ufwd,unom[-1]))\n",
    "    \n",
    "    # obstacle forward model\n",
    "    cmpc,Hmpc = fun_obstacle(t_horizon)\n",
    "    \n",
    "    # solve optimal control\n",
    "    # initiall condition\n",
    "    if t_curr == 0 :\n",
    "        x0 = xfwd\n",
    "        u0 = ufwd\n",
    "        Q0 = Qhat\n",
    "        Y0 = Yhat\n",
    "        K0 = Khat\n",
    "    else :\n",
    "        x0 = np.copy(xmpc)\n",
    "        x0[:Nmpc] = xmpc[1:]\n",
    "        u0 = np.copy(umpc)\n",
    "        u0[:Nmpc] = umpc[1:]\n",
    "        \n",
    "        Q0 = np.copy(Qmpc)\n",
    "        Q0[:Nmpc] = Q0[1:]\n",
    "        Y0 = np.copy(Ympc)\n",
    "        Y0[:Nmpc-1] = Y0[1:]\n",
    "        K0 = np.copy(Kmpc)\n",
    "        K0[:Nmpc-1] = K0[1:]\n",
    "\n",
    "    # solve MPC by OCP\n",
    "    tic = time.time()\n",
    "    xprop,uprop,xmpc,umpc,tfmpc,_,l_all,l_c,l_vc,l_tr,history_mpc  = MPC_controller.run(x0,u0,x_curr,xfwd,ufwd,cmpc,Hmpc)\n",
    "    time_traj.append(time.time() - tic)\n",
    "    # discretization\n",
    "    A,B,F,s,z,_ = MPC_model.diff_discrete_zoh_noise(xmpc,umpc,np.zeros((Nmpc,iw)),dt,horizon) \n",
    "    # estimate Lipschitz\n",
    "    tic = time.time()\n",
    "    lip_estimator.initialize(xmpc,umpc,xprop,Q0,K0,A,B,C,D,E,F,G,MPC_model)\n",
    "    gamma = lip_estimator.update_lipschitz_norm(MPC_model,dt)\n",
    "    time_lips.append(time.time() - tic)\n",
    "    # Funnel synthesis\n",
    "    tic = time.time()\n",
    "    Qmpc,Kmpc,Ympc,status,funl_cost = funl_solver.solve(gamma,Q0,Y0,A,B,C,D,E,F,G)\n",
    "    time_funl.append(time.time() - tic)\n",
    "    \n",
    "    # apply input to the system (integration)\n",
    "    sol = forward_dt(dt,x_curr,umpc[0])\n",
    "    t_curr += dt\n",
    "    x_curr = sol.y.T[-1]\n",
    "\n",
    "    # save\n",
    "    t_save.append(t_curr)\n",
    "    x_save.append(x_curr)\n",
    "    u_save.append(umpc[0])\n",
    "\n",
    "    t_traj.append(t_horizon)\n",
    "    x_traj.append(xmpc)\n",
    "    u_traj.append(umpc)\n",
    "    Q_traj.append(Qmpc)\n",
    "    K_traj.append(Kmpc)\n",
    "    c_traj.append(cmpc)\n",
    "    H_traj.append(Hmpc)\n",
    "\n",
    "x_save = np.array(x_save)\n",
    "u_save = np.array(u_save)"
   ]
  },
  {
   "cell_type": "code",
   "execution_count": null,
   "id": "cc65be30",
   "metadata": {},
   "outputs": [],
   "source": [
    "idx = 0\n",
    "fig = plt.figure(figsize=(10,10))\n",
    "ax = fig.add_subplot(111)\n",
    "fS = 15\n",
    "plt.plot(xnom[:,0], xnom[:,1],'--', linewidth=2.0,label='nominal trajectory')\n",
    "plt.plot(x_save[:idx+1,0], x_save[:idx+1,1],'-', linewidth=2.0,label='result trajectory')\n",
    "if idx < Nsim :\n",
    "    cmpc = c_traj[idx]\n",
    "    Hmpc = H_traj[idx]\n",
    "for idx_obstacle, (ce,H) in enumerate(zip(cmpc,Hmpc)) :\n",
    "    rx = 1/H[0,0]\n",
    "    ry = 1/H[1,1]\n",
    "    if idx_obstacle == 0:\n",
    "        circle1 = Ellipse((ce[0],ce[1]),rx*2,ry*2,color='tab:red',alpha=1.0,fill=True)\n",
    "    else :\n",
    "        circle1 = Ellipse((ce[0],ce[1]),rx*2,ry*2,color='tab:pink',alpha=0.2*np.exp(-idx_obstacle/10),fill=True)\n",
    "    ax.add_patch(circle1)\n",
    "if idx < Nsim :\n",
    "    plt.plot(x_traj[idx][:,0], x_traj[idx][:,1],'-',color='tab:green', linewidth=2.0,label='future prediction')\n",
    "    plt.plot(x_traj[idx][0,0], x_traj[idx][0,1],'o',color='tab:green', linewidth=2.0)\n",
    "    plot_funnel(x_traj[idx],Q_traj[idx],ax)\n",
    "\n",
    "plt.gca().set_aspect('equal', adjustable='box')\n",
    "plt.axis([-6, 6, -6, 6])\n",
    "plt.xlabel('X (m)', fontsize = fS)\n",
    "plt.ylabel('Y (m)', fontsize = fS)\n",
    "plt.legend(fontsize=fS)\n"
   ]
  },
  {
   "cell_type": "code",
   "execution_count": null,
   "id": "beb98c43",
   "metadata": {},
   "outputs": [],
   "source": [
    "plt.figure(figsize=(15,10))\n",
    "fS = 18\n",
    "plt.subplot(231)\n",
    "plt.plot(xnom[:,0], xnom[:,1],'--', linewidth=2.0)\n",
    "plt.plot(x_save[:,0], x_save[:,1],'-', linewidth=2.0)\n",
    "plt.plot(xf[0],xf[1],\"o\",label='goal')\n",
    "plt.gca().set_aspect('equal', adjustable='box')\n",
    "plt.axis([-6, 6, -6, 6])\n",
    "plt.xlabel('X (m)', fontsize = fS)\n",
    "plt.ylabel('Y (m)', fontsize = fS)\n",
    "plt.subplot(232)\n",
    "plt.plot(t_nom, xnom[:,0],'--', linewidth=2.0)\n",
    "plt.plot(t_save, x_save[:,0],'-',linewidth=2.0)\n",
    "plt.xlabel('time (s)', fontsize = fS)\n",
    "plt.ylabel('x1 (m)', fontsize = fS)\n",
    "plt.subplot(233)\n",
    "plt.plot(t_nom, xnom[:,1],'--',linewidth=2.0)\n",
    "plt.plot(t_save, x_save[:,1],'-',linewidth=2.0)\n",
    "plt.xlabel('time (s)', fontsize = fS)\n",
    "plt.ylabel('x2 (m)', fontsize = fS)\n",
    "plt.subplot(234)\n",
    "plt.plot(t_nom, np.rad2deg(xnom[:,2]),'--',linewidth=2.0)\n",
    "plt.plot(t_save, np.rad2deg(x_save[:,2]),'-',linewidth=2.0)\n",
    "plt.xlabel('time (s)', fontsize = fS)\n",
    "plt.ylabel('x3 (rad)', fontsize = fS)\n",
    "plt.subplot(235)\n",
    "plt.plot(t_nom, unom[:,0],'--',linewidth=2.0)\n",
    "plt.step(t_save,[*u_save[:,0],u_save[-1,0]],label='zoh',where='post')\n",
    "plt.plot(t_save, np.array(t_save)*0+MPC_Const.vmax,'--',linewidth=2.0,color='tab:red')\n",
    "plt.plot(t_save, np.array(t_save)*0+MPC_Const.vmin,'--',linewidth=2.0,color='tab:red')\n",
    "plt.xlabel('time (s)', fontsize = fS)\n",
    "plt.ylabel('v (m/s)', fontsize = fS)\n",
    "plt.subplot(236)\n",
    "plt.plot(t_nom, np.rad2deg(unom[:,1]),'--',linewidth=2.0)\n",
    "plt.step(t_save,np.rad2deg([*u_save[:,1],u_save[-1,1]]),label='zoh',where='post')\n",
    "plt.plot(t_save, np.array(t_save)*0+np.rad2deg(MPC_Const.wmax),'--',linewidth=2.0,color='tab:red')\n",
    "plt.plot(t_save, np.array(t_save)*0+np.rad2deg(MPC_Const.wmin),'--',linewidth=2.0,color='tab:red')\n",
    "plt.xlabel('time (s)', fontsize = fS)\n",
    "plt.ylabel('w (rad/s)', fontsize = fS)\n",
    "plt.show()"
   ]
  },
  {
   "cell_type": "markdown",
   "id": "7ec609de",
   "metadata": {},
   "source": [
    "## make a video"
   ]
  },
  {
   "cell_type": "code",
   "execution_count": null,
   "id": "f9b973c1",
   "metadata": {},
   "outputs": [],
   "source": [
    "from matplotlib.patches import Rectangle,Ellipse\n",
    "import imageio.v2 as imageio\n",
    "import os\n",
    "from utils.utils_plot import plot_funnel"
   ]
  },
  {
   "cell_type": "code",
   "execution_count": null,
   "id": "6123793b",
   "metadata": {},
   "outputs": [],
   "source": [
    "filenames = []\n",
    "t_curr = 0\n",
    "for idx in range(Nsim+1) :\n",
    "    fig = plt.figure(figsize=(10,10))\n",
    "    ax = fig.add_subplot(111)\n",
    "    fS = 15\n",
    "    plt.plot(xnom[:,0], xnom[:,1],'--', linewidth=2.0,label='nominal trajectory')\n",
    "    plt.plot(x_save[:idx+1,0], x_save[:idx+1,1],'-', linewidth=2.0,label='result trajectory')\n",
    "    if idx < Nsim :\n",
    "        cmpc = c_traj[idx]\n",
    "        Hmpc = H_traj[idx]\n",
    "    for idx_obstacle, (ce,H) in enumerate(zip(cmpc,Hmpc)) :\n",
    "        rx = 1/H[0,0]\n",
    "        ry = 1/H[1,1]\n",
    "        if idx_obstacle == 0:\n",
    "            circle1 = Ellipse((ce[0],ce[1]),rx*2,ry*2,color='tab:red',alpha=1.0,fill=True)\n",
    "        else :\n",
    "            circle1 = Ellipse((ce[0],ce[1]),rx*2,ry*2,color='tab:pink',alpha=0.2*np.exp(-idx_obstacle/10),fill=True)\n",
    "        ax.add_patch(circle1)\n",
    "    if idx < Nsim :\n",
    "        plt.plot(x_traj[idx][:,0], x_traj[idx][:,1],'-',color='tab:green', linewidth=2.0,label='future prediction')\n",
    "        plt.plot(x_traj[idx][0,0], x_traj[idx][0,1],'o',color='tab:green', linewidth=2.0)\n",
    "        plot_funnel(x_traj[idx],Q_traj[idx],ax)\n",
    "    \n",
    "    plt.gca().set_aspect('equal', adjustable='box')\n",
    "    plt.axis([-6, 6, -6, 6])\n",
    "    plt.xlabel('X (m)', fontsize = fS)\n",
    "    plt.ylabel('Y (m)', fontsize = fS)\n",
    "    plt.legend(fontsize=fS)\n",
    "\n",
    "    filename = '../images/{:d}.png'.format(idx)\n",
    "    plt.savefig(filename)\n",
    "    filenames.append(filename)\n",
    "    plt.close()\n",
    "    t_curr += dt"
   ]
  },
  {
   "cell_type": "code",
   "execution_count": null,
   "id": "9f492eb6",
   "metadata": {},
   "outputs": [],
   "source": [
    "funnel_type = \"time_varying\"\n",
    "img_name = 'MPC_with_funnel_moving_obstacle_' + funnel_type\n",
    "with imageio.get_writer('../images/'+img_name+'.gif', mode='I') as writer:\n",
    "        for filename in filenames:\n",
    "            image = imageio.imread(filename)\n",
    "            writer.append_data(image)"
   ]
  },
  {
   "cell_type": "code",
   "execution_count": null,
   "id": "8bc2ba1a",
   "metadata": {},
   "outputs": [],
   "source": [
    "img_name = 'video_MPC_with_funnel_moving_obstacle_' + funnel_type\n",
    "with imageio.get_writer('../images/'+img_name+'.mov', fps=int(1/dt)) as writer:\n",
    "    for filename in filenames:\n",
    "        image = imageio.imread(filename)\n",
    "        writer.append_data(image)"
   ]
  },
  {
   "cell_type": "code",
   "execution_count": null,
   "id": "0ac17491",
   "metadata": {},
   "outputs": [],
   "source": [
    "for filename in set(filenames):\n",
    "    os.remove(filename)"
   ]
  },
  {
   "cell_type": "code",
   "execution_count": null,
   "id": "1899944e",
   "metadata": {},
   "outputs": [],
   "source": []
  },
  {
   "cell_type": "code",
   "execution_count": null,
   "id": "4b496d3d",
   "metadata": {},
   "outputs": [],
   "source": [
    "idx = 79\n",
    "fig = plt.figure(figsize=(10,10))\n",
    "ax = fig.add_subplot(111)\n",
    "fS = 15\n",
    "plt.plot(xnom[:,0], xnom[:,1],'--', linewidth=2.0,label='nominal trajectory')\n",
    "plt.plot(x_save[:idx+1,0], x_save[:idx+1,1],'-', linewidth=2.0,label='result trajectory')\n",
    "if idx < Nsim :\n",
    "    cmpc = c_traj[idx]\n",
    "    Hmpc = H_traj[idx]\n",
    "for idx_obstacle, (ce,H) in enumerate(zip(cmpc,Hmpc)) :\n",
    "    rx = 1/H[0,0]\n",
    "    ry = 1/H[1,1]\n",
    "    if idx_obstacle == 0:\n",
    "        circle1 = Ellipse((ce[0],ce[1]),rx*2,ry*2,color='tab:red',alpha=1.0,fill=True)\n",
    "    else :\n",
    "        circle1 = Ellipse((ce[0],ce[1]),rx*2,ry*2,color='tab:pink',alpha=0.2*np.exp(-idx_obstacle/10),fill=True)\n",
    "    ax.add_patch(circle1)\n",
    "if idx < Nsim :\n",
    "    plt.plot(x_traj[idx][:,0], x_traj[idx][:,1],'-',color='tab:green', linewidth=2.0,label='future prediction')\n",
    "    plt.plot(x_traj[idx][0,0], x_traj[idx][0,1],'o',color='tab:green', linewidth=2.0)\n",
    "    plot_funnel(x_traj[idx],Q_traj[idx],ax)\n",
    "\n",
    "plt.gca().set_aspect('equal', adjustable='box')\n",
    "plt.axis([-6, 6, -6, 6])\n",
    "plt.xlabel('X (m)', fontsize = fS)\n",
    "plt.ylabel('Y (m)', fontsize = fS)\n",
    "plt.legend(fontsize=fS)\n"
   ]
  },
  {
   "cell_type": "code",
   "execution_count": null,
   "id": "73d6a0b2",
   "metadata": {},
   "outputs": [],
   "source": []
  }
 ],
 "metadata": {
  "kernelspec": {
   "display_name": "Python 3 (ipykernel)",
   "language": "python",
   "name": "python3"
  },
  "language_info": {
   "codemirror_mode": {
    "name": "ipython",
    "version": 3
   },
   "file_extension": ".py",
   "mimetype": "text/x-python",
   "name": "python",
   "nbconvert_exporter": "python",
   "pygments_lexer": "ipython3",
   "version": "3.9.13"
  }
 },
 "nbformat": 4,
 "nbformat_minor": 5
}
