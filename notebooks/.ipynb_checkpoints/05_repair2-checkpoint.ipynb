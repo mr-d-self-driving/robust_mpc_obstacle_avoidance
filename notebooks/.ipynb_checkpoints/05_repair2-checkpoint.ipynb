{
 "cells": [
  {
   "cell_type": "code",
   "execution_count": 1,
   "id": "90afe694",
   "metadata": {},
   "outputs": [],
   "source": [
    "import matplotlib.pyplot as plt\n",
    "%matplotlib inline  \n",
    "%load_ext autoreload\n",
    "%autoreload 2\n",
    "import numpy as np\n",
    "import time\n",
    "import random\n",
    "def print_np(x):\n",
    "    print (\"Type is %s\" % (type(x)))\n",
    "    print (\"Shape is %s\" % (x.shape,))\n",
    "#     print (\"Values are: \\n%s\" % (x))"
   ]
  },
  {
   "cell_type": "code",
   "execution_count": 2,
   "id": "9bd07490",
   "metadata": {},
   "outputs": [],
   "source": [
    "import os\n",
    "import sys\n",
    "sys.path.append('../')"
   ]
  },
  {
   "cell_type": "code",
   "execution_count": 3,
   "id": "262d5363",
   "metadata": {},
   "outputs": [
    {
     "name": "stdout",
     "output_type": "stream",
     "text": [
      "(CVXPY) Feb 10 11:41:25 AM: Encountered unexpected exception importing solver SCS:\n",
      "ImportError(\"dlopen(/opt/anaconda3/envs/py309/lib/python3.9/site-packages/_scs_direct.cpython-39-darwin.so, 0x0002): Library not loaded: @rpath/liblapack.3.dylib\\n  Referenced from: /opt/anaconda3/envs/py309/lib/python3.9/site-packages/_scs_direct.cpython-39-darwin.so\\n  Reason: tried: '/opt/anaconda3/envs/py309/lib/python3.9/site-packages/../../liblapack.3.dylib' (no such file), '/opt/anaconda3/envs/py309/lib/python3.9/site-packages/../../liblapack.3.dylib' (no such file), '/opt/anaconda3/envs/py309/bin/../lib/liblapack.3.dylib' (no such file), '/opt/anaconda3/envs/py309/bin/../lib/liblapack.3.dylib' (no such file), '/usr/local/lib/liblapack.3.dylib' (no such file), '/usr/lib/liblapack.3.dylib' (no such file)\")\n"
     ]
    }
   ],
   "source": [
    "from model import UnicycleModel\n",
    "from cost import FinaltimeFreeCost, UnicycleCost\n",
    "from constraints import UnicycleConstraints\n",
    "from PTR_tf_free import PTR_tf_free\n",
    "from PTR_in_MPC import PTR_in_MPC\n",
    "from Scaling import TrajectoryScaling\n",
    "\n",
    "from scipy.interpolate import interp1d\n",
    "from scipy.integrate import solve_ivp"
   ]
  },
  {
   "cell_type": "markdown",
   "id": "08b90769",
   "metadata": {},
   "source": [
    "## Nominal trajectory generation"
   ]
  },
  {
   "cell_type": "code",
   "execution_count": 4,
   "id": "da8a6a76",
   "metadata": {},
   "outputs": [],
   "source": [
    "ix = 3\n",
    "iu = 2\n",
    "ih = 2\n",
    "N = 50\n",
    "tf = 10\n",
    "delT = tf/N\n",
    "max_iter = 30"
   ]
  },
  {
   "cell_type": "code",
   "execution_count": 5,
   "id": "6fff32cc",
   "metadata": {},
   "outputs": [],
   "source": [
    "myModel = UnicycleModel.unicycle2('Hello',ix,iu,'analytic')\n",
    "myCost = FinaltimeFreeCost.Finaltime('Hello',ix,iu,N)\n",
    "myConst = UnicycleConstraints.UnicycleConstraints('Hello',ix,iu,[],[])"
   ]
  },
  {
   "cell_type": "markdown",
   "id": "f5c9a420",
   "metadata": {},
   "source": [
    "### nominal trajectory is given as xbar, ubar"
   ]
  },
  {
   "cell_type": "code",
   "execution_count": 6,
   "id": "0698dead",
   "metadata": {},
   "outputs": [
    {
     "name": "stdout",
     "output_type": "stream",
     "text": [
      "Nmpc: 1\n"
     ]
    }
   ],
   "source": [
    "horizon = 0.1\n",
    "dt = 0.1\n",
    "Nmpc =  int(horizon / dt) # N+1 is total discretization points for state\n",
    "print(\"Nmpc: {:}\".format(Nmpc))\n",
    "\n",
    "xi_mpc = np.zeros(3)\n",
    "xi_mpc[0] = -5.0\n",
    "xi_mpc[1] = -5.0 \n",
    "xi_mpc[2] = 0"
   ]
  },
  {
   "cell_type": "code",
   "execution_count": 7,
   "id": "bfb9aa54",
   "metadata": {},
   "outputs": [
    {
     "name": "stdout",
     "output_type": "stream",
     "text": [
      "Is DPP?  True\n"
     ]
    }
   ],
   "source": [
    "# cost and constraint / model is identical\n",
    "MPC_model = UnicycleModel.unicycle2('Hello',ix,iu,'analytic')\n",
    "MPC_Cost = UnicycleCost.UnicycleMPCCost('Hello',ix,iu,Nmpc)\n",
    "MPC_Const = UnicycleConstraints.UnicycleMPCConstraints('Hello',ix,iu,num_obs=1)\n",
    "x_max = np.array([5,5,np.deg2rad(90)])\n",
    "x_min = np.zeros(ix)\n",
    "\n",
    "u_max = np.array([2,np.deg2rad(90)]) \n",
    "u_min = np.array([0,0])\n",
    "\n",
    "\n",
    "myScaling = TrajectoryScaling(x_min,x_max,u_min,u_max,tf)\n",
    "# # define optimal control\n",
    "MPC_controller = PTR_in_MPC('unicycle',Nmpc,horizon,max_iter,myModel,MPC_Cost,MPC_Const,myScaling,\n",
    "          type_discretization=\"zoh\",w_c=1,w_vc=1e3,w_tr=1e-1,\n",
    "                            tol_vc=1e-6,tol_tr=1e-3,verbosity=False)"
   ]
  },
  {
   "cell_type": "code",
   "execution_count": 8,
   "id": "c3c070c4",
   "metadata": {},
   "outputs": [],
   "source": [
    "# nominal trajectory\n",
    "xmpc,umpc,xprop = np.zeros((Nmpc+1,ix)),np.zeros((Nmpc+1,iu)),np.zeros((Nmpc+1,ix))"
   ]
  },
  {
   "cell_type": "code",
   "execution_count": 9,
   "id": "c2cee01a",
   "metadata": {},
   "outputs": [
    {
     "name": "stdout",
     "output_type": "stream",
     "text": [
      "linear funnel\n",
      "Is DPP?  True\n",
      "linear funnel\n",
      "Is DPP?  True\n"
     ]
    }
   ],
   "source": [
    "# funnel initialization\n",
    "from utils.utils_alg import get_neighbor_vec,get_K_discrete\n",
    "from funlopt import funlopt,funlopt_at_final\n",
    "from Lipschitz import Lipschitz\n",
    "iw,iq,ip = MPC_model.iw,MPC_model.iq,MPC_model.ip\n",
    "C,D,E,G = MPC_model.C,MPC_model.D,MPC_model.E,MPC_model.G\n",
    "\n",
    "Qini = np.diag([0.4**2,0.4**2,np.deg2rad(20)**2])\n",
    "# Qini = np.diag([0.2**2,0.2**2,np.deg2rad(10)**2])\n",
    "\n",
    "Qhat = np.tile(np.diag([0.2**2,0.2**2,np.deg2rad(10)**2]),(Nmpc+1,1,1))*0.1\n",
    "A,B,s,z,x_prop_n = myModel.diff_discrete_zoh(xmpc,umpc,dt,horizon) \n",
    "Khat = get_K_discrete(A,B,np.eye(ix),np.eye(iu),np.eye(ix),Nmpc,ix,iu)\n",
    "Yhat = Khat@Qhat[:Nmpc]\n",
    "\n",
    "funl_solver = funlopt(ix,iu,iq,ip,iw,Nmpc,myScaling,\n",
    "                      alpha=0.99,\n",
    "                      lambda_mu=0.1,\n",
    "                      w_tr=0,\n",
    "                      flag_nonlinearity=False)\n",
    "funl_solver.cvx_initialize(Qini,flag_time_varying=True)\n",
    "\n",
    "funl_final = funlopt_at_final(ix,iu,iq,ip,iw,Nmpc,myScaling,\n",
    "                      alpha=0.99,\n",
    "                      lambda_mu=0.1,\n",
    "                      w_tr=0,\n",
    "                      flag_nonlinearity=False)\n",
    "\n",
    "funl_final.cvx_initialize(Qini)\n",
    "\n",
    "lip_estimator = Lipschitz(ix,iu,iq,ip,iw,Nmpc,num_sample=100,flag_uniform=True)"
   ]
  },
  {
   "cell_type": "code",
   "execution_count": 13,
   "id": "8602204b",
   "metadata": {
    "scrolled": false
   },
   "outputs": [],
   "source": [
    "# discretization\n",
    "A,B,F,s,z,_ = MPC_model.diff_discrete_zoh_noise(xmpc,umpc,np.zeros((Nmpc,iw)),dt,horizon) \n",
    "# estimiate Lipschitz\n",
    "lip_estimator.initialize(xmpc,umpc,xprop,Qhat,Khat,A,B,C,D,E,F,G,MPC_model)\n",
    "gamma = lip_estimator.update_lipschitz_norm(MPC_model,dt)\n",
    "B[:,1,0] = 1\n",
    "# funnel synthesis\n",
    "Qmpc,Kmpc,Ympc,status,funl_cost = funl_solver.solve(gamma,Qhat,Yhat,A,B,C,D,E,F,G)\n"
   ]
  },
  {
   "cell_type": "code",
   "execution_count": 14,
   "id": "406f2965",
   "metadata": {},
   "outputs": [
    {
     "name": "stdout",
     "output_type": "stream",
     "text": [
      "infeasible\n"
     ]
    },
    {
     "ename": "ValueError",
     "evalue": "matmul: Input operand 1 does not have enough dimensions (has 0, gufunc core with signature (n?,k),(k,m?)->(n?,m?) requires 1)",
     "output_type": "error",
     "traceback": [
      "\u001b[0;31m---------------------------------------------------------------------------\u001b[0m",
      "\u001b[0;31mValueError\u001b[0m                                Traceback (most recent call last)",
      "Input \u001b[0;32mIn [14]\u001b[0m, in \u001b[0;36m<cell line: 1>\u001b[0;34m()\u001b[0m\n\u001b[0;32m----> 1\u001b[0m Qmpc,Kmpc,Ympc,status,funl_cost \u001b[38;5;241m=\u001b[39m \u001b[43mfunl_final\u001b[49m\u001b[38;5;241;43m.\u001b[39;49m\u001b[43msolve\u001b[49m\u001b[43m(\u001b[49m\u001b[43mgamma\u001b[49m\u001b[43m[\u001b[49m\u001b[38;5;241;43m0\u001b[39;49m\u001b[43m]\u001b[49m\u001b[43m,\u001b[49m\u001b[43mA\u001b[49m\u001b[43m[\u001b[49m\u001b[38;5;241;43m0\u001b[39;49m\u001b[43m]\u001b[49m\u001b[43m,\u001b[49m\u001b[43mB\u001b[49m\u001b[43m[\u001b[49m\u001b[38;5;241;43m0\u001b[39;49m\u001b[43m]\u001b[49m\u001b[43m,\u001b[49m\u001b[43mC\u001b[49m\u001b[43m,\u001b[49m\u001b[43mD\u001b[49m\u001b[43m,\u001b[49m\u001b[43mE\u001b[49m\u001b[43m,\u001b[49m\u001b[43mF\u001b[49m\u001b[43m[\u001b[49m\u001b[38;5;241;43m0\u001b[39;49m\u001b[43m]\u001b[49m\u001b[43m,\u001b[49m\u001b[43mG\u001b[49m\u001b[43m)\u001b[49m\n",
      "File \u001b[0;32m~/Documents/Code/Personal/MPC_obstacle_avoidance/notebooks/../funlopt.py:441\u001b[0m, in \u001b[0;36mfunlopt_at_final.solve\u001b[0;34m(self, gamma, A, B, C, D, E, F, G)\u001b[0m\n\u001b[1;32m    439\u001b[0m \u001b[38;5;28mself\u001b[39m\u001b[38;5;241m.\u001b[39mprob\u001b[38;5;241m.\u001b[39msolve(solver\u001b[38;5;241m=\u001b[39mcvx\u001b[38;5;241m.\u001b[39mMOSEK)\n\u001b[1;32m    440\u001b[0m \u001b[38;5;28mprint\u001b[39m(\u001b[38;5;28mself\u001b[39m\u001b[38;5;241m.\u001b[39mprob\u001b[38;5;241m.\u001b[39mstatus)\n\u001b[0;32m--> 441\u001b[0m Qnew \u001b[38;5;241m=\u001b[39m \u001b[38;5;28;43mself\u001b[39;49m\u001b[38;5;241;43m.\u001b[39;49m\u001b[43mSx\u001b[49m\u001b[38;5;129;43m@self\u001b[39;49m\u001b[38;5;241;43m.\u001b[39;49m\u001b[43mcvx_variables\u001b[49m\u001b[43m[\u001b[49m\u001b[38;5;124;43m'\u001b[39;49m\u001b[38;5;124;43mQcvx\u001b[39;49m\u001b[38;5;124;43m'\u001b[39;49m\u001b[43m]\u001b[49m\u001b[38;5;241;43m.\u001b[39;49m\u001b[43mvalue\u001b[49m\u001b[38;5;129m@self\u001b[39m\u001b[38;5;241m.\u001b[39mSx\n\u001b[1;32m    442\u001b[0m Ynew \u001b[38;5;241m=\u001b[39m \u001b[38;5;28mself\u001b[39m\u001b[38;5;241m.\u001b[39mSu\u001b[38;5;129m@self\u001b[39m\u001b[38;5;241m.\u001b[39mcvx_variables[\u001b[38;5;124m'\u001b[39m\u001b[38;5;124mYcvx\u001b[39m\u001b[38;5;124m'\u001b[39m]\u001b[38;5;241m.\u001b[39mvalue\u001b[38;5;129m@self\u001b[39m\u001b[38;5;241m.\u001b[39mSx\n\u001b[1;32m    443\u001b[0m nu_p \u001b[38;5;241m=\u001b[39m \u001b[38;5;28mself\u001b[39m\u001b[38;5;241m.\u001b[39mcvx_variables[\u001b[38;5;124m'\u001b[39m\u001b[38;5;124mnu_p\u001b[39m\u001b[38;5;124m'\u001b[39m]\u001b[38;5;241m.\u001b[39mvalue\n",
      "\u001b[0;31mValueError\u001b[0m: matmul: Input operand 1 does not have enough dimensions (has 0, gufunc core with signature (n?,k),(k,m?)->(n?,m?) requires 1)"
     ]
    }
   ],
   "source": [
    "Qmpc,Kmpc,Ympc,status,funl_cost = funl_final.solve(gamma[0],A[0],B[0],C,D,E,F[0],G)"
   ]
  },
  {
   "cell_type": "code",
   "execution_count": 15,
   "id": "cc65be30",
   "metadata": {},
   "outputs": [
    {
     "data": {
      "text/plain": [
       "<matplotlib.legend.Legend at 0x144802430>"
      ]
     },
     "execution_count": 15,
     "metadata": {},
     "output_type": "execute_result"
    },
    {
     "data": {
      "image/png": "[encoded data removed]",
      "text/plain": [
       "<Figure size 720x720 with 1 Axes>"
      ]
     },
     "metadata": {
      "needs_background": "light"
     },
     "output_type": "display_data"
    }
   ],
   "source": [
    "from matplotlib.patches import Rectangle,Ellipse\n",
    "from utils.utils_plot import plot_funnel\n",
    "fig = plt.figure(figsize=(10,10))\n",
    "ax = fig.add_subplot(111)\n",
    "fS = 15\n",
    "\n",
    "plt.plot(xmpc[:,0], xmpc[:,1],'-',color='tab:green', linewidth=2.0,label='future prediction')\n",
    "plt.plot(xmpc[0,0], xmpc[0,1],'o',color='tab:green', linewidth=2.0)\n",
    "# plot_funnel(xmpc[0:1],Qmpc[0:1],ax)\n",
    "plot_funnel(xmpc,Qmpc,ax)\n",
    "\n",
    "plt.gca().set_aspect('equal', adjustable='box')\n",
    "plt.axis([-1, 1, -1, 1])\n",
    "plt.xlabel('X (m)', fontsize = fS)\n",
    "plt.ylabel('Y (m)', fontsize = fS)\n",
    "plt.legend(fontsize=fS)\n"
   ]
  },
  {
   "cell_type": "markdown",
   "id": "c74fcab1",
   "metadata": {},
   "source": [
    "# check the dynamics"
   ]
  },
  {
   "cell_type": "code",
   "execution_count": null,
   "id": "a7c7fe64",
   "metadata": {},
   "outputs": [],
   "source": [
    "from utils.utils_alg import forward_full_with_K,get_sample_trajectory\n",
    "import scipy\n",
    "x0_sample = []\n",
    "num_sample = 10\n",
    "for i in range(num_sample) :\n",
    "    z = np.random.randn(ix)\n",
    "    z = z / np.linalg.norm(z)\n",
    "    x_s = xmpc[0] + scipy.linalg.sqrtm(Qmpc[0])@z\n",
    "    x0_sample.append(x_s)"
   ]
  },
  {
   "cell_type": "code",
   "execution_count": null,
   "id": "e4d6498c",
   "metadata": {},
   "outputs": [],
   "source": [
    "tsam,xsam,usam,wsam,xsamp = get_sample_trajectory(xi_mpc,x0_sample,\n",
    "    xmpc,umpc,Qmpc,Ympc,myModel,Nmpc,\n",
    "    ix,iu,iw,\n",
    "    dt,\n",
    "    flag_noise=True)"
   ]
  },
  {
   "cell_type": "code",
   "execution_count": null,
   "id": "f8482b7f",
   "metadata": {},
   "outputs": [],
   "source": [
    "fig = plt.figure(figsize=(10,10))\n",
    "ax = fig.add_subplot(111)\n",
    "fS = 15\n",
    "plt.plot(xmpc[:,0], xmpc[:,1],'-',color='tab:green', linewidth=2.0,label='future prediction')\n",
    "plt.plot(xmpc[0,0], xmpc[0,1],'o',color='tab:green', linewidth=2.0)\n",
    "# plot_funnel(xmpc[0:1],Qmpc[0:1],ax)\n",
    "plot_funnel(xmpc,Qmpc,ax)\n",
    "for i in range(num_sample) :\n",
    "    xsam_e = xsam[i]\n",
    "    plt.plot(xsam_e[0,0], xsam_e[0,1],'o',color='tab:purple',linewidth=1.0)\n",
    "    plt.plot(xsam_e[:,0], xsam_e[:,1],'-',color='tab:purple',linewidth=2.0)\n",
    "\n",
    "plt.gca().set_aspect('equal', adjustable='box')\n",
    "# plt.axis([-6, 6, -6, 6])\n",
    "# plt.axis([-6, 0, -6, 0])\n",
    "# plt.axis([-3, 3, -3, 3])\n",
    "plt.axis([-1, 1, -1, 1])\n",
    "plt.xlabel('X (m)', fontsize = fS)\n",
    "plt.ylabel('Y (m)', fontsize = fS)\n",
    "plt.legend(fontsize=fS)\n"
   ]
  },
  {
   "cell_type": "code",
   "execution_count": null,
   "id": "28187053",
   "metadata": {},
   "outputs": [],
   "source": []
  }
 ],
 "metadata": {
  "kernelspec": {
   "display_name": "Python 3 (ipykernel)",
   "language": "python",
   "name": "python3"
  },
  "language_info": {
   "codemirror_mode": {
    "name": "ipython",
    "version": 3
   },
   "file_extension": ".py",
   "mimetype": "text/x-python",
   "name": "python",
   "nbconvert_exporter": "python",
   "pygments_lexer": "ipython3",
   "version": "3.9.13"
  }
 },
 "nbformat": 4,
 "nbformat_minor": 5
}
